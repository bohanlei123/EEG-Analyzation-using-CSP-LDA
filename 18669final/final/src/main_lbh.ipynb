{
 "cells": [
  {
   "cell_type": "code",
   "execution_count": 58,
   "id": "3266a6d8",
   "metadata": {},
   "outputs": [],
   "source": [
    "import numpy as np\n",
    "import pandas as pd\n",
    "from sklearn.discriminant_analysis import LinearDiscriminantAnalysis as LDA\n",
    "from sklearn.linear_model import LinearRegression as LR"
   ]
  },
  {
   "cell_type": "code",
   "execution_count": 77,
   "id": "2a9dae76",
   "metadata": {},
   "outputs": [],
   "source": [
    "def CSPFilter(data, w, label, j):\n",
    "    w = np.array(w)\n",
    "    label = label.reshape()\n",
    "    data = np.array(data)\n",
    "    filter = LDA()\n",
    "    processed_data = []\n",
    "    for k in range(data.shape[0]):\n",
    "        processed_data_temp = [1]\n",
    "        for i in range(0,j):\n",
    "            temp_data = np.log(w[:,i].T @ data[k,:,:] @ data[k,:,:].T @ w[:,i])\n",
    "            processed_data_temp.append(temp_data)\n",
    "        processed_data.append(np.array(processed_data_temp))\n",
    "    processed_data = np.vstack(processed_data)\n",
    "    filter.fit(processed_data,label)\n",
    "    return filter"
   ]
  },
  {
   "cell_type": "code",
   "execution_count": 60,
   "id": "896ee27b",
   "metadata": {},
   "outputs": [],
   "source": [
    "def Process_w(w, j):\n",
    "    processed_w = np.delete(w, list(range(int(j/2), int(25-j/2))) , axis = 1)\n",
    "                            \n",
    "    return processed_w"
   ]
  },
  {
   "cell_type": "code",
   "execution_count": 98,
   "id": "b58e9926",
   "metadata": {},
   "outputs": [],
   "source": [
    "# test\n",
    "j = 6\n",
    "w = np.random.rand(25,25) "
   ]
  },
  {
   "cell_type": "code",
   "execution_count": 62,
   "id": "538f2ccf",
   "metadata": {},
   "outputs": [],
   "source": [
    "wp = Process_w(w ,j)"
   ]
  },
  {
   "cell_type": "code",
   "execution_count": 94,
   "id": "f831d2fc",
   "metadata": {},
   "outputs": [],
   "source": [
    "x = np.random.rand(72,25,750)\n",
    "label = np.sign(np.random.rand(72)-0.5)"
   ]
  },
  {
   "cell_type": "code",
   "execution_count": 101,
   "id": "44a27a4c",
   "metadata": {},
   "outputs": [],
   "source": [
    "processed_data_temp = [1]\n",
    "for i in range(0,j):\n",
    "    temp_data = np.log(wp[:,i].T @ x[50,:,:] @ x[50,:,:].T @ wp[:,i])\n",
    "    processed_data_temp.append(temp_data)\n"
   ]
  },
  {
   "cell_type": "code",
   "execution_count": 90,
   "id": "cc18c79a",
   "metadata": {},
   "outputs": [
    {
     "data": {
      "text/plain": [
       "array([ 1.,  1.,  1.,  1.,  1.,  1., -1.,  1.,  1.,  1., -1.,  1., -1.,\n",
       "       -1.,  1.,  1., -1.,  1.,  1.,  1.,  1., -1., -1., -1.,  1., -1.,\n",
       "       -1., -1., -1.,  1., -1.,  1., -1.,  1., -1.,  1.,  1., -1.,  1.,\n",
       "        1., -1.,  1., -1., -1.,  1.,  1.,  1.,  1.,  1.,  1.,  1.,  1.,\n",
       "       -1.,  1., -1., -1.,  1.,  1.,  1.,  1., -1., -1., -1., -1.,  1.,\n",
       "        1.,  1., -1.,  1., -1.,  1., -1.])"
      ]
     },
     "execution_count": 90,
     "metadata": {},
     "output_type": "execute_result"
    }
   ],
   "source": [
    "label"
   ]
  },
  {
   "cell_type": "code",
   "execution_count": 93,
   "id": "2f9eb4fa",
   "metadata": {},
   "outputs": [],
   "source": [
    "filter = CSPFilter(x, wp, label, j)"
   ]
  },
  {
   "cell_type": "code",
   "execution_count": 92,
   "id": "5c86af1a",
   "metadata": {},
   "outputs": [
    {
     "data": {
      "text/plain": [
       "(25, 6)"
      ]
     },
     "execution_count": 92,
     "metadata": {},
     "output_type": "execute_result"
    }
   ],
   "source": [
    "wp.shape"
   ]
  },
  {
   "cell_type": "code",
   "execution_count": 103,
   "id": "b2c3274b",
   "metadata": {},
   "outputs": [
    {
     "data": {
      "text/plain": [
       "array([1.])"
      ]
     },
     "execution_count": 103,
     "metadata": {},
     "output_type": "execute_result"
    }
   ],
   "source": [
    "filter.predict([processed_data_temp])"
   ]
  },
  {
   "cell_type": "code",
   "execution_count": 105,
   "id": "812421cd",
   "metadata": {},
   "outputs": [
    {
     "data": {
      "text/plain": [
       "1.0"
      ]
     },
     "execution_count": 105,
     "metadata": {},
     "output_type": "execute_result"
    }
   ],
   "source": [
    "label[50]"
   ]
  },
  {
   "cell_type": "code",
   "execution_count": null,
   "id": "a529a655",
   "metadata": {},
   "outputs": [],
   "source": []
  }
 ],
 "metadata": {
  "kernelspec": {
   "display_name": "Python 3 (ipykernel)",
   "language": "python",
   "name": "python3"
  },
  "language_info": {
   "codemirror_mode": {
    "name": "ipython",
    "version": 3
   },
   "file_extension": ".py",
   "mimetype": "text/x-python",
   "name": "python",
   "nbconvert_exporter": "python",
   "pygments_lexer": "ipython3",
   "version": "3.9.7"
  }
 },
 "nbformat": 4,
 "nbformat_minor": 5
}
